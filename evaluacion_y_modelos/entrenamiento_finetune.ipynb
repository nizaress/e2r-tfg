{
  "cells": [
    {
      "cell_type": "markdown",
      "metadata": {
        "id": "nv2VWIAvYFgg"
      },
      "source": [
        "# Modelo LLaMA Fine-tuned\n",
        "\n",
        "Este entrenamiento está basado en el modelo [LLaMA 2 7B](https://huggingface.co/NousResearch/Llama-2-7b-hf), y los datos de entrenamiento provienen del Corpus ClearSim.\n",
        "\n",
        "El token de Hugging Face está omitido por motivos de seguridad."
      ]
    },
    {
      "cell_type": "markdown",
      "metadata": {
        "id": "Qsx_G8zXmBEm"
      },
      "source": [
        "## Importar librerías y corpus de datos"
      ]
    },
    {
      "cell_type": "code",
      "execution_count": null,
      "metadata": {
        "id": "htVrPtG7YAXH"
      },
      "outputs": [],
      "source": [
        "!pip install trl accelerate bitsandbytes transformers peft --quiet\n",
        "\n",
        "import torch\n",
        "import os\n",
        "from transformers import AutoTokenizer, AutoModelForCausalLM, BitsAndBytesConfig, HfArgumentParser, TrainingArguments, pipeline, logging\n",
        "from peft import LoraConfig, PeftModel\n",
        "from trl import SFTTrainer\n",
        "from google.colab import files\n",
        "from datasets import load_dataset\n",
        "\n",
        "# Iniciar sesión de Hugging Face\n",
        "!huggingface-cli login"
      ]
    },
    {
      "cell_type": "code",
      "execution_count": null,
      "metadata": {
        "colab": {
          "base_uri": "https://localhost:8080/",
          "height": 366
        },
        "id": "fPo6Pb8UkBm2",
        "outputId": "2b44c1e4-498e-49ae-eb0a-550450c82828"
      },
      "outputs": [],
      "source": [
        "# Importar corpus (formato JSONLines)\n",
        "uploaded = files.upload()\n",
        "dataset = load_dataset(\"json\", data_files=\"datos.jsonl\", split=\"train\") # Cambio de formato a JSONLines"
      ]
    },
    {
      "cell_type": "markdown",
      "metadata": {
        "id": "lbtts17YmZln"
      },
      "source": [
        "## Configuración de parámetros y modelo"
      ]
    },
    {
      "cell_type": "code",
      "execution_count": null,
      "metadata": {
        "id": "_meFORX1fMgu"
      },
      "outputs": [],
      "source": [
        "# Configuración cuantización\n",
        "bnb_argumentos = BitsAndBytesConfig(\n",
        "    load_in_4bit=True,\n",
        "    bnb_4bit_quant_type=\"nf4\",\n",
        "    bnb_4bit_compute_dtype=torch.float16,\n",
        ")\n",
        "\n",
        "# Modelo\n",
        "modelo = AutoModelForCausalLM.from_pretrained(\n",
        "    \"NousResearch/Llama-2-7b-hf\",\n",
        "    quantization_config=bnb_argumentos,\n",
        "    device_map={\"\": 0}\n",
        ")\n",
        "\n",
        "# Tokenizador\n",
        "tokenizer = AutoTokenizer.from_pretrained(\"NousResearch/Llama-2-7b-hf\", trust_remote_code=True)\n",
        "tokenizer.add_special_tokens({'pad_token': '[PAD]'})\n",
        "tokenizer.pad_token = tokenizer.eos_token\n",
        "tokenizer.padding_side = \"right\"\n",
        "\n",
        "# Configuración de LoRA\n",
        "peft_argumentos = LoraConfig(\n",
        "    lora_alpha=16,\n",
        "    lora_dropout=0.1,\n",
        "    r=64,\n",
        "    task_type=\"CAUSAL_LM\",\n",
        "    bias=\"none\",\n",
        ")\n",
        "\n",
        "# Parámetros de entrenamiento\n",
        "train_argumentos = TrainingArguments(\n",
        "    output_dir=\"./resultados\",\n",
        "    num_train_epochs=5,\n",
        "    per_device_train_batch_size=2,\n",
        "    gradient_accumulation_steps=2,\n",
        "    optim=\"paged_adamw_32bit\",\n",
        "    save_steps=25,\n",
        "    logging_steps=25,\n",
        "    learning_rate=2e-3,\n",
        "    weight_decay=0.001,\n",
        "    bf16=True,\n",
        "    max_grad_norm=0.4,\n",
        "    max_steps=-1,\n",
        "    warmup_ratio=0.04,\n",
        "    group_by_length=True,\n",
        "    lr_scheduler_type=\"constant\",\n",
        "    report_to=\"tensorboard\"\n",
        ")\n",
        "trainer = SFTTrainer(\n",
        "    model=modelo,\n",
        "    train_dataset=dataset,\n",
        "    peft_config=peft_argumentos,\n",
        "    args=train_argumentos\n",
        ")"
      ]
    },
    {
      "cell_type": "markdown",
      "metadata": {
        "id": "RIhOPqJpnfn2"
      },
      "source": [
        "## Entrenamiento"
      ]
    },
    {
      "cell_type": "code",
      "execution_count": null,
      "metadata": {
        "colab": {
          "base_uri": "https://localhost:8080/",
          "height": 1000
        },
        "id": "vksg2eIFixWj",
        "outputId": "a0aa14a6-6f03-4bf7-9055-40884d50a441"
      },
      "outputs": [],
      "source": [
        "trainer.train()\n",
        "trainer.model.save_pretrained(\"e2r-finetune\")"
      ]
    },
    {
      "cell_type": "markdown",
      "metadata": {
        "id": "TjUX-GGSnslB"
      },
      "source": [
        "## Subir a nuevo repositorio de Hugging Face"
      ]
    },
    {
      "cell_type": "code",
      "execution_count": null,
      "metadata": {
        "colab": {
          "base_uri": "https://localhost:8080/",
          "height": 34
        },
        "id": "rjK4M9G_Z_BK",
        "outputId": "96c60679-15df-4950-9e1c-5c96aba480db"
      },
      "outputs": [],
      "source": [
        "from huggingface_hub import login, create_repo\n",
        "\n",
        "login(\"HF-TOKEN\") # Aquí iría el token\n",
        "repo_name = \"e2r-finetuned\"\n",
        "create_repo(repo_id=repo_name, private=False)\n",
        "trainer.model.push_to_hub(\"Nizaress/e2r-finetuned\")"
      ]
    },
    {
      "cell_type": "markdown",
      "metadata": {},
      "source": [
        "# Uso del modelo\n",
        "\n",
        "Aquí tenemos un ejemplo de cómo utilizar el modelo para generar texto."
      ]
    },
    {
      "cell_type": "code",
      "execution_count": null,
      "metadata": {
        "colab": {
          "base_uri": "https://localhost:8080/",
          "height": 49,
          "referenced_widgets": [
            "2573df26b89a4f438a8650edbf5ec892",
            "2a8c120ff5ca4d4d9cd94c8a43b82a7d",
            "3783879ceaf24b52a5c27020e4a207dd",
            "b97e884c72ef420cbfae3a3d79c77c52",
            "a4de5e324f97420ea4fc687351713c80",
            "39cf5946dc95465daa5c611ea27be10c",
            "5d6767abb2f04a848bb582e2905105cb",
            "b47edbbeb28b45f1868c1937f6cd90bf",
            "1c545936950d42daa34a5df3cbc53983",
            "3ec085062212484483d163d012d397c7",
            "d41971a5925b4763891413282b30a2fd"
          ]
        },
        "id": "rZqueVBrJzV0",
        "outputId": "70e578d5-c66f-414b-e142-98bfb807c991"
      },
      "outputs": [],
      "source": [
        "from transformers import AutoTokenizer, AutoModelForCausalLM\n",
        "from peft import PeftModel, PeftConfig\n",
        "\n",
        "def cargar_modelo(repo_adaptador: str, hf_token: str | None = None):\n",
        "    config = PeftConfig.from_pretrained(repo_adaptador, token=hf_token)\n",
        "    modelo_base = AutoModelForCausalLM.from_pretrained(config.base_model_name_or_path, token=hf_token)\n",
        "    modelo_peft = PeftModel.from_pretrained(modelo_base, repo_adaptador, token=hf_token)\n",
        "\n",
        "    tokenizer = AutoTokenizer.from_pretrained(config.base_model_name_or_path, token=hf_token)\n",
        "    return modelo_peft.eval(), tokenizer\n",
        "\n",
        "texto_original = \"Prueba del modelo.\"\n",
        "\n",
        "model, tokenizer = cargar_modelo(\"Nizaress/e2r-finetuned\", hf_token=\"HF-TOKEN\") # En hf_token colocas tu token\n",
        "\n",
        "inputs = tokenizer(texto_original, return_tensors=\"pt\").to(model.device)\n",
        "\n",
        "output = model.generate(\n",
        "    **inputs,\n",
        "    max_new_tokens=500,\n",
        "    do_sample=True,\n",
        "    temperature=0.5\n",
        ")\n",
        "\n",
        "generated = tokenizer.decode(output[0], skip_special_tokens=True)\n",
        "print(generated[len(texto_original):])"
      ]
    }
  ],
  "metadata": {
    "accelerator": "GPU",
    "colab": {
      "gpuType": "A100",
      "machine_shape": "hm",
      "provenance": []
    },
    "kernelspec": {
      "display_name": "Python 3",
      "name": "python3"
    },
    "language_info": {
      "name": "python"
    },
    "widgets": {
      "application/vnd.jupyter.widget-state+json": {
        "1c545936950d42daa34a5df3cbc53983": {
          "model_module": "@jupyter-widgets/controls",
          "model_module_version": "1.5.0",
          "model_name": "ProgressStyleModel",
          "state": {
            "_model_module": "@jupyter-widgets/controls",
            "_model_module_version": "1.5.0",
            "_model_name": "ProgressStyleModel",
            "_view_count": null,
            "_view_module": "@jupyter-widgets/base",
            "_view_module_version": "1.2.0",
            "_view_name": "StyleView",
            "bar_color": null,
            "description_width": ""
          }
        },
        "2573df26b89a4f438a8650edbf5ec892": {
          "model_module": "@jupyter-widgets/controls",
          "model_module_version": "1.5.0",
          "model_name": "HBoxModel",
          "state": {
            "_dom_classes": [],
            "_model_module": "@jupyter-widgets/controls",
            "_model_module_version": "1.5.0",
            "_model_name": "HBoxModel",
            "_view_count": null,
            "_view_module": "@jupyter-widgets/controls",
            "_view_module_version": "1.5.0",
            "_view_name": "HBoxView",
            "box_style": "",
            "children": [
              "IPY_MODEL_2a8c120ff5ca4d4d9cd94c8a43b82a7d",
              "IPY_MODEL_3783879ceaf24b52a5c27020e4a207dd",
              "IPY_MODEL_b97e884c72ef420cbfae3a3d79c77c52"
            ],
            "layout": "IPY_MODEL_a4de5e324f97420ea4fc687351713c80"
          }
        },
        "2a8c120ff5ca4d4d9cd94c8a43b82a7d": {
          "model_module": "@jupyter-widgets/controls",
          "model_module_version": "1.5.0",
          "model_name": "HTMLModel",
          "state": {
            "_dom_classes": [],
            "_model_module": "@jupyter-widgets/controls",
            "_model_module_version": "1.5.0",
            "_model_name": "HTMLModel",
            "_view_count": null,
            "_view_module": "@jupyter-widgets/controls",
            "_view_module_version": "1.5.0",
            "_view_name": "HTMLView",
            "description": "",
            "description_tooltip": null,
            "layout": "IPY_MODEL_39cf5946dc95465daa5c611ea27be10c",
            "placeholder": "​",
            "style": "IPY_MODEL_5d6767abb2f04a848bb582e2905105cb",
            "value": "Loading checkpoint shards: 100%"
          }
        },
        "3783879ceaf24b52a5c27020e4a207dd": {
          "model_module": "@jupyter-widgets/controls",
          "model_module_version": "1.5.0",
          "model_name": "FloatProgressModel",
          "state": {
            "_dom_classes": [],
            "_model_module": "@jupyter-widgets/controls",
            "_model_module_version": "1.5.0",
            "_model_name": "FloatProgressModel",
            "_view_count": null,
            "_view_module": "@jupyter-widgets/controls",
            "_view_module_version": "1.5.0",
            "_view_name": "ProgressView",
            "bar_style": "success",
            "description": "",
            "description_tooltip": null,
            "layout": "IPY_MODEL_b47edbbeb28b45f1868c1937f6cd90bf",
            "max": 2,
            "min": 0,
            "orientation": "horizontal",
            "style": "IPY_MODEL_1c545936950d42daa34a5df3cbc53983",
            "value": 2
          }
        },
        "39cf5946dc95465daa5c611ea27be10c": {
          "model_module": "@jupyter-widgets/base",
          "model_module_version": "1.2.0",
          "model_name": "LayoutModel",
          "state": {
            "_model_module": "@jupyter-widgets/base",
            "_model_module_version": "1.2.0",
            "_model_name": "LayoutModel",
            "_view_count": null,
            "_view_module": "@jupyter-widgets/base",
            "_view_module_version": "1.2.0",
            "_view_name": "LayoutView",
            "align_content": null,
            "align_items": null,
            "align_self": null,
            "border": null,
            "bottom": null,
            "display": null,
            "flex": null,
            "flex_flow": null,
            "grid_area": null,
            "grid_auto_columns": null,
            "grid_auto_flow": null,
            "grid_auto_rows": null,
            "grid_column": null,
            "grid_gap": null,
            "grid_row": null,
            "grid_template_areas": null,
            "grid_template_columns": null,
            "grid_template_rows": null,
            "height": null,
            "justify_content": null,
            "justify_items": null,
            "left": null,
            "margin": null,
            "max_height": null,
            "max_width": null,
            "min_height": null,
            "min_width": null,
            "object_fit": null,
            "object_position": null,
            "order": null,
            "overflow": null,
            "overflow_x": null,
            "overflow_y": null,
            "padding": null,
            "right": null,
            "top": null,
            "visibility": null,
            "width": null
          }
        },
        "3ec085062212484483d163d012d397c7": {
          "model_module": "@jupyter-widgets/base",
          "model_module_version": "1.2.0",
          "model_name": "LayoutModel",
          "state": {
            "_model_module": "@jupyter-widgets/base",
            "_model_module_version": "1.2.0",
            "_model_name": "LayoutModel",
            "_view_count": null,
            "_view_module": "@jupyter-widgets/base",
            "_view_module_version": "1.2.0",
            "_view_name": "LayoutView",
            "align_content": null,
            "align_items": null,
            "align_self": null,
            "border": null,
            "bottom": null,
            "display": null,
            "flex": null,
            "flex_flow": null,
            "grid_area": null,
            "grid_auto_columns": null,
            "grid_auto_flow": null,
            "grid_auto_rows": null,
            "grid_column": null,
            "grid_gap": null,
            "grid_row": null,
            "grid_template_areas": null,
            "grid_template_columns": null,
            "grid_template_rows": null,
            "height": null,
            "justify_content": null,
            "justify_items": null,
            "left": null,
            "margin": null,
            "max_height": null,
            "max_width": null,
            "min_height": null,
            "min_width": null,
            "object_fit": null,
            "object_position": null,
            "order": null,
            "overflow": null,
            "overflow_x": null,
            "overflow_y": null,
            "padding": null,
            "right": null,
            "top": null,
            "visibility": null,
            "width": null
          }
        },
        "5d6767abb2f04a848bb582e2905105cb": {
          "model_module": "@jupyter-widgets/controls",
          "model_module_version": "1.5.0",
          "model_name": "DescriptionStyleModel",
          "state": {
            "_model_module": "@jupyter-widgets/controls",
            "_model_module_version": "1.5.0",
            "_model_name": "DescriptionStyleModel",
            "_view_count": null,
            "_view_module": "@jupyter-widgets/base",
            "_view_module_version": "1.2.0",
            "_view_name": "StyleView",
            "description_width": ""
          }
        },
        "a4de5e324f97420ea4fc687351713c80": {
          "model_module": "@jupyter-widgets/base",
          "model_module_version": "1.2.0",
          "model_name": "LayoutModel",
          "state": {
            "_model_module": "@jupyter-widgets/base",
            "_model_module_version": "1.2.0",
            "_model_name": "LayoutModel",
            "_view_count": null,
            "_view_module": "@jupyter-widgets/base",
            "_view_module_version": "1.2.0",
            "_view_name": "LayoutView",
            "align_content": null,
            "align_items": null,
            "align_self": null,
            "border": null,
            "bottom": null,
            "display": null,
            "flex": null,
            "flex_flow": null,
            "grid_area": null,
            "grid_auto_columns": null,
            "grid_auto_flow": null,
            "grid_auto_rows": null,
            "grid_column": null,
            "grid_gap": null,
            "grid_row": null,
            "grid_template_areas": null,
            "grid_template_columns": null,
            "grid_template_rows": null,
            "height": null,
            "justify_content": null,
            "justify_items": null,
            "left": null,
            "margin": null,
            "max_height": null,
            "max_width": null,
            "min_height": null,
            "min_width": null,
            "object_fit": null,
            "object_position": null,
            "order": null,
            "overflow": null,
            "overflow_x": null,
            "overflow_y": null,
            "padding": null,
            "right": null,
            "top": null,
            "visibility": null,
            "width": null
          }
        },
        "b47edbbeb28b45f1868c1937f6cd90bf": {
          "model_module": "@jupyter-widgets/base",
          "model_module_version": "1.2.0",
          "model_name": "LayoutModel",
          "state": {
            "_model_module": "@jupyter-widgets/base",
            "_model_module_version": "1.2.0",
            "_model_name": "LayoutModel",
            "_view_count": null,
            "_view_module": "@jupyter-widgets/base",
            "_view_module_version": "1.2.0",
            "_view_name": "LayoutView",
            "align_content": null,
            "align_items": null,
            "align_self": null,
            "border": null,
            "bottom": null,
            "display": null,
            "flex": null,
            "flex_flow": null,
            "grid_area": null,
            "grid_auto_columns": null,
            "grid_auto_flow": null,
            "grid_auto_rows": null,
            "grid_column": null,
            "grid_gap": null,
            "grid_row": null,
            "grid_template_areas": null,
            "grid_template_columns": null,
            "grid_template_rows": null,
            "height": null,
            "justify_content": null,
            "justify_items": null,
            "left": null,
            "margin": null,
            "max_height": null,
            "max_width": null,
            "min_height": null,
            "min_width": null,
            "object_fit": null,
            "object_position": null,
            "order": null,
            "overflow": null,
            "overflow_x": null,
            "overflow_y": null,
            "padding": null,
            "right": null,
            "top": null,
            "visibility": null,
            "width": null
          }
        },
        "b97e884c72ef420cbfae3a3d79c77c52": {
          "model_module": "@jupyter-widgets/controls",
          "model_module_version": "1.5.0",
          "model_name": "HTMLModel",
          "state": {
            "_dom_classes": [],
            "_model_module": "@jupyter-widgets/controls",
            "_model_module_version": "1.5.0",
            "_model_name": "HTMLModel",
            "_view_count": null,
            "_view_module": "@jupyter-widgets/controls",
            "_view_module_version": "1.5.0",
            "_view_name": "HTMLView",
            "description": "",
            "description_tooltip": null,
            "layout": "IPY_MODEL_3ec085062212484483d163d012d397c7",
            "placeholder": "​",
            "style": "IPY_MODEL_d41971a5925b4763891413282b30a2fd",
            "value": " 2/2 [00:23&lt;00:00, 12.81s/it]"
          }
        },
        "d41971a5925b4763891413282b30a2fd": {
          "model_module": "@jupyter-widgets/controls",
          "model_module_version": "1.5.0",
          "model_name": "DescriptionStyleModel",
          "state": {
            "_model_module": "@jupyter-widgets/controls",
            "_model_module_version": "1.5.0",
            "_model_name": "DescriptionStyleModel",
            "_view_count": null,
            "_view_module": "@jupyter-widgets/base",
            "_view_module_version": "1.2.0",
            "_view_name": "StyleView",
            "description_width": ""
          }
        }
      }
    }
  },
  "nbformat": 4,
  "nbformat_minor": 0
}
